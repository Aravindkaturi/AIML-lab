{
  "cells": [
    {
      "cell_type": "markdown",
      "metadata": {
        "id": "BxWv6mWC97dH"
      },
      "source": [
        "Name: K.Aravind\n",
        "\n",
        "Htno: 2203A51140\n",
        "\n",
        "Sub: AIML\n",
        "\n",
        "Batch: 03\n"
      ]
    },
    {
      "cell_type": "markdown",
      "metadata": {
        "id": "EULqE2yd9qCQ"
      },
      "source": [
        "## AIML Project\n",
        "\n",
        "# **News Article categorization using Multinomial Naive Bayes  **"
      ]
    },
    {
      "cell_type": "code",
      "execution_count": 1,
      "metadata": {
        "colab": {
          "base_uri": "https://localhost:8080/"
        },
        "id": "_BMdeSuY0dzS",
        "outputId": "5e467c02-d857-4319-98f6-84c1f8c6f5a1"
      },
      "outputs": [
        {
          "name": "stdout",
          "output_type": "stream",
          "text": [
            "Requirement already satisfied: nltk in c:\\users\\aravind\\appdata\\roaming\\python\\python311\\site-packages (3.8.1)\n",
            "Requirement already satisfied: click in c:\\users\\aravind\\appdata\\roaming\\python\\python311\\site-packages (from nltk) (8.1.7)\n",
            "Requirement already satisfied: joblib in c:\\users\\aravind\\appdata\\roaming\\python\\python311\\site-packages (from nltk) (1.3.2)\n",
            "Requirement already satisfied: regex>=2021.8.3 in c:\\users\\aravind\\appdata\\roaming\\python\\python311\\site-packages (from nltk) (2023.12.25)\n",
            "Requirement already satisfied: tqdm in c:\\users\\aravind\\appdata\\roaming\\python\\python311\\site-packages (from nltk) (4.66.2)\n",
            "Requirement already satisfied: colorama in c:\\users\\aravind\\appdata\\roaming\\python\\python311\\site-packages (from click->nltk) (0.4.6)\n",
            "Note: you may need to restart the kernel to use updated packages.\n"
          ]
        },
        {
          "name": "stderr",
          "output_type": "stream",
          "text": [
            "\n",
            "[notice] A new release of pip available: 22.3.1 -> 24.0\n",
            "[notice] To update, run: python.exe -m pip install --upgrade pip\n"
          ]
        }
      ],
      "source": [
        "pip install --user -U nltk"
      ]
    },
    {
      "cell_type": "code",
      "execution_count": 2,
      "metadata": {},
      "outputs": [
        {
          "name": "stdout",
          "output_type": "stream",
          "text": [
            "Defaulting to user installation because normal site-packages is not writeable\n",
            "Requirement already satisfied: scikit-learn in c:\\users\\aravind\\appdata\\roaming\\python\\python311\\site-packages (1.4.1.post1)\n",
            "Requirement already satisfied: numpy<2.0,>=1.19.5 in c:\\users\\aravind\\appdata\\roaming\\python\\python311\\site-packages (from scikit-learn) (1.25.1)\n",
            "Requirement already satisfied: scipy>=1.6.0 in c:\\users\\aravind\\appdata\\roaming\\python\\python311\\site-packages (from scikit-learn) (1.11.1)\n",
            "Requirement already satisfied: joblib>=1.2.0 in c:\\users\\aravind\\appdata\\roaming\\python\\python311\\site-packages (from scikit-learn) (1.3.2)\n",
            "Requirement already satisfied: threadpoolctl>=2.0.0 in c:\\users\\aravind\\appdata\\roaming\\python\\python311\\site-packages (from scikit-learn) (3.4.0)\n",
            "Note: you may need to restart the kernel to use updated packages.\n"
          ]
        },
        {
          "name": "stderr",
          "output_type": "stream",
          "text": [
            "\n",
            "[notice] A new release of pip available: 22.3.1 -> 24.0\n",
            "[notice] To update, run: python.exe -m pip install --upgrade pip\n"
          ]
        }
      ],
      "source": [
        "pip install scikit-learn"
      ]
    },
    {
      "cell_type": "code",
      "execution_count": 3,
      "metadata": {},
      "outputs": [
        {
          "name": "stdout",
          "output_type": "stream",
          "text": [
            "Defaulting to user installation because normal site-packages is not writeable\n",
            "Requirement already satisfied: xgboost in c:\\users\\aravind\\appdata\\roaming\\python\\python311\\site-packages (2.0.3)\n",
            "Requirement already satisfied: numpy in c:\\users\\aravind\\appdata\\roaming\\python\\python311\\site-packages (from xgboost) (1.25.1)\n",
            "Requirement already satisfied: scipy in c:\\users\\aravind\\appdata\\roaming\\python\\python311\\site-packages (from xgboost) (1.11.1)\n",
            "Note: you may need to restart the kernel to use updated packages.\n"
          ]
        },
        {
          "name": "stderr",
          "output_type": "stream",
          "text": [
            "\n",
            "[notice] A new release of pip available: 22.3.1 -> 24.0\n",
            "[notice] To update, run: python.exe -m pip install --upgrade pip\n"
          ]
        }
      ],
      "source": [
        "pip install xgboost"
      ]
    },
    {
      "cell_type": "code",
      "execution_count": 4,
      "metadata": {
        "id": "qC2lXjJO1cSs"
      },
      "outputs": [],
      "source": [
        "# Import libraries\n",
        "\n",
        "import pandas as pd\n",
        "import re\n",
        "\n",
        "import nltk\n",
        "from nltk.tokenize import RegexpTokenizer\n",
        "from collections import Counter\n",
        "from nltk.tokenize import word_tokenize\n",
        "from nltk.stem import WordNetLemmatizer\n",
        "from nltk.corpus import stopwords\n",
        "\n",
        "import numpy as np\n",
        "import matplotlib.pyplot as plt\n",
        "%matplotlib inline\n",
        "\n",
        "from sklearn.feature_extraction.text import TfidfVectorizer, TfidfTransformer\n",
        "from sklearn.model_selection import train_test_split\n",
        "from sklearn import svm\n",
        "from sklearn.naive_bayes import MultinomialNB\n",
        "from sklearn.ensemble import AdaBoostClassifier, GradientBoostingClassifier\n",
        "from sklearn.tree import DecisionTreeClassifier\n",
        "import xgboost\n",
        "from sklearn.metrics  import classification_report\n",
        "from sklearn import metrics\n",
        "import time"
      ]
    },
    {
      "cell_type": "code",
      "execution_count": 5,
      "metadata": {
        "colab": {
          "base_uri": "https://localhost:8080/",
          "height": 206
        },
        "id": "oREqcWMX1g_m",
        "outputId": "0c907878-ae94-4625-bb32-ce32c68c66d7"
      },
      "outputs": [
        {
          "data": {
            "text/html": [
              "<div>\n",
              "<style scoped>\n",
              "    .dataframe tbody tr th:only-of-type {\n",
              "        vertical-align: middle;\n",
              "    }\n",
              "\n",
              "    .dataframe tbody tr th {\n",
              "        vertical-align: top;\n",
              "    }\n",
              "\n",
              "    .dataframe thead th {\n",
              "        text-align: right;\n",
              "    }\n",
              "</style>\n",
              "<table border=\"1\" class=\"dataframe\">\n",
              "  <thead>\n",
              "    <tr style=\"text-align: right;\">\n",
              "      <th></th>\n",
              "      <th>ArticleId</th>\n",
              "      <th>Text</th>\n",
              "      <th>Category</th>\n",
              "    </tr>\n",
              "  </thead>\n",
              "  <tbody>\n",
              "    <tr>\n",
              "      <th>0</th>\n",
              "      <td>1833</td>\n",
              "      <td>worldcom ex-boss launches defence lawyers defe...</td>\n",
              "      <td>business</td>\n",
              "    </tr>\n",
              "    <tr>\n",
              "      <th>1</th>\n",
              "      <td>154</td>\n",
              "      <td>german business confidence slides german busin...</td>\n",
              "      <td>business</td>\n",
              "    </tr>\n",
              "    <tr>\n",
              "      <th>2</th>\n",
              "      <td>1101</td>\n",
              "      <td>bbc poll indicates economic gloom citizens in ...</td>\n",
              "      <td>business</td>\n",
              "    </tr>\n",
              "    <tr>\n",
              "      <th>3</th>\n",
              "      <td>1976</td>\n",
              "      <td>lifestyle  governs mobile choice  faster  bett...</td>\n",
              "      <td>tech</td>\n",
              "    </tr>\n",
              "    <tr>\n",
              "      <th>4</th>\n",
              "      <td>917</td>\n",
              "      <td>enron bosses in $168m payout eighteen former e...</td>\n",
              "      <td>business</td>\n",
              "    </tr>\n",
              "  </tbody>\n",
              "</table>\n",
              "</div>"
            ],
            "text/plain": [
              "   ArticleId                                               Text  Category\n",
              "0       1833  worldcom ex-boss launches defence lawyers defe...  business\n",
              "1        154  german business confidence slides german busin...  business\n",
              "2       1101  bbc poll indicates economic gloom citizens in ...  business\n",
              "3       1976  lifestyle  governs mobile choice  faster  bett...      tech\n",
              "4        917  enron bosses in $168m payout eighteen former e...  business"
            ]
          },
          "execution_count": 5,
          "metadata": {},
          "output_type": "execute_result"
        }
      ],
      "source": [
        "# Read the dataset from csv file\n",
        "df1 = pd.read_csv('BBC News Train.csv')\n",
        "df1.head()"
      ]
    },
    {
      "cell_type": "code",
      "execution_count": 6,
      "metadata": {
        "colab": {
          "base_uri": "https://localhost:8080/"
        },
        "id": "F5T21_MB31D1",
        "outputId": "3f865501-1b6e-43cd-de01-40869a5aa686"
      },
      "outputs": [
        {
          "data": {
            "text/plain": [
              "['business', 'tech', 'politics', 'sport', 'entertainment']"
            ]
          },
          "execution_count": 6,
          "metadata": {},
          "output_type": "execute_result"
        }
      ],
      "source": [
        "# Find all category\n",
        "category = list(df1['Category'].unique())\n",
        "category"
      ]
    },
    {
      "cell_type": "code",
      "execution_count": 7,
      "metadata": {
        "colab": {
          "base_uri": "https://localhost:8080/",
          "height": 430
        },
        "id": "aC4rTuDP4du5",
        "outputId": "bfc19bb8-6cdd-48cd-fa33-2af4c28fa168"
      },
      "outputs": [
        {
          "data": {
            "image/png": "[encoded data removed]",
            "text/plain": [
              "<Figure size 640x480 with 1 Axes>"
            ]
          },
          "metadata": {},
          "output_type": "display_data"
        }
      ],
      "source": [
        "df1['Category'].value_counts().plot(kind='barh')\n",
        "plt.show()"
      ]
    },
    {
      "cell_type": "code",
      "execution_count": 8,
      "metadata": {
        "colab": {
          "base_uri": "https://localhost:8080/"
        },
        "id": "9PEvPlHJ4its",
        "outputId": "75b97b4d-05b5-45bc-df38-3c8bb5c38fa5"
      },
      "outputs": [
        {
          "data": {
            "text/plain": [
              "ArticleId    0\n",
              "Text         0\n",
              "Category     0\n",
              "dtype: int64"
            ]
          },
          "execution_count": 8,
          "metadata": {},
          "output_type": "execute_result"
        }
      ],
      "source": [
        "# Check null values\n",
        "df1.isnull().sum()"
      ]
    },
    {
      "cell_type": "code",
      "execution_count": 9,
      "metadata": {
        "colab": {
          "base_uri": "https://localhost:8080/"
        },
        "id": "dohDIeQR5g2h",
        "outputId": "cf4b61d5-d49a-4b54-82e7-af8e59f1154e"
      },
      "outputs": [
        {
          "name": "stderr",
          "output_type": "stream",
          "text": [
            "[nltk_data] Downloading package punkt to\n",
            "[nltk_data]     C:\\Users\\Aravind\\AppData\\Roaming\\nltk_data...\n",
            "[nltk_data]   Package punkt is already up-to-date!\n"
          ]
        },
        {
          "data": {
            "text/plain": [
              "True"
            ]
          },
          "execution_count": 9,
          "metadata": {},
          "output_type": "execute_result"
        }
      ],
      "source": [
        "nltk.download('punkt')"
      ]
    },
    {
      "cell_type": "code",
      "execution_count": 10,
      "metadata": {
        "colab": {
          "base_uri": "https://localhost:8080/"
        },
        "id": "WPFAYEnh5oDU",
        "outputId": "6042be9e-ab77-4b96-a88a-b46571f927d2"
      },
      "outputs": [
        {
          "name": "stderr",
          "output_type": "stream",
          "text": [
            "[nltk_data] Downloading package stopwords to\n",
            "[nltk_data]     C:\\Users\\Aravind\\AppData\\Roaming\\nltk_data...\n",
            "[nltk_data]   Package stopwords is already up-to-date!\n"
          ]
        },
        {
          "data": {
            "text/plain": [
              "True"
            ]
          },
          "execution_count": 10,
          "metadata": {},
          "output_type": "execute_result"
        }
      ],
      "source": [
        "nltk.download('stopwords')"
      ]
    },
    {
      "cell_type": "code",
      "execution_count": 11,
      "metadata": {
        "colab": {
          "base_uri": "https://localhost:8080/"
        },
        "id": "YUCqnOWP5sY6",
        "outputId": "bdee1d08-3e5d-446c-b779-f942650b9003"
      },
      "outputs": [
        {
          "name": "stderr",
          "output_type": "stream",
          "text": [
            "[nltk_data] Downloading package wordnet to\n",
            "[nltk_data]     C:\\Users\\Aravind\\AppData\\Roaming\\nltk_data...\n",
            "[nltk_data]   Package wordnet is already up-to-date!\n"
          ]
        },
        {
          "data": {
            "text/plain": [
              "True"
            ]
          },
          "execution_count": 11,
          "metadata": {},
          "output_type": "execute_result"
        }
      ],
      "source": [
        "nltk.download('wordnet')"
      ]
    },
    {
      "cell_type": "code",
      "execution_count": 12,
      "metadata": {
        "id": "UV2YwFzd4lR9"
      },
      "outputs": [],
      "source": [
        "# Text preprocessing\n",
        "def preprocess(text):\n",
        "\n",
        "    \"\"\"\n",
        "    Function: split text into words and return the root form of the words\n",
        "    Args:\n",
        "      text(str): the article\n",
        "    Return:\n",
        "      lem(list of str): a list of the root form of the article words\n",
        "    \"\"\"\n",
        "\n",
        "    # Normalize text\n",
        "    text = re.sub(r\"[^a-zA-Z]\", \" \", str(text).lower())\n",
        "\n",
        "    # Tokenize text\n",
        "    token = word_tokenize(text)\n",
        "\n",
        "    # Remove stop words\n",
        "    stop = stopwords.words(\"english\")\n",
        "    words = [t for t in token if t not in stop]\n",
        "\n",
        "    # Lemmatization\n",
        "    lem = [WordNetLemmatizer().lemmatize(w) for w in words]\n",
        "\n",
        "    return lem"
      ]
    },
    {
      "cell_type": "code",
      "execution_count": 13,
      "metadata": {
        "colab": {
          "base_uri": "https://localhost:8080/",
          "height": 363
        },
        "id": "wajEh2Jy4sXL",
        "outputId": "d166cba8-6a92-4efa-9b6d-d429fecb59d8"
      },
      "outputs": [
        {
          "data": {
            "text/html": [
              "<div>\n",
              "<style scoped>\n",
              "    .dataframe tbody tr th:only-of-type {\n",
              "        vertical-align: middle;\n",
              "    }\n",
              "\n",
              "    .dataframe tbody tr th {\n",
              "        vertical-align: top;\n",
              "    }\n",
              "\n",
              "    .dataframe thead th {\n",
              "        text-align: right;\n",
              "    }\n",
              "</style>\n",
              "<table border=\"1\" class=\"dataframe\">\n",
              "  <thead>\n",
              "    <tr style=\"text-align: right;\">\n",
              "      <th></th>\n",
              "      <th>ArticleId</th>\n",
              "      <th>Text</th>\n",
              "      <th>Category</th>\n",
              "      <th>Preprocessed_Text</th>\n",
              "    </tr>\n",
              "  </thead>\n",
              "  <tbody>\n",
              "    <tr>\n",
              "      <th>0</th>\n",
              "      <td>1833</td>\n",
              "      <td>worldcom ex-boss launches defence lawyers defe...</td>\n",
              "      <td>business</td>\n",
              "      <td>[worldcom, ex, bos, launch, defence, lawyer, d...</td>\n",
              "    </tr>\n",
              "    <tr>\n",
              "      <th>1</th>\n",
              "      <td>154</td>\n",
              "      <td>german business confidence slides german busin...</td>\n",
              "      <td>business</td>\n",
              "      <td>[german, business, confidence, slide, german, ...</td>\n",
              "    </tr>\n",
              "    <tr>\n",
              "      <th>2</th>\n",
              "      <td>1101</td>\n",
              "      <td>bbc poll indicates economic gloom citizens in ...</td>\n",
              "      <td>business</td>\n",
              "      <td>[bbc, poll, indicates, economic, gloom, citize...</td>\n",
              "    </tr>\n",
              "    <tr>\n",
              "      <th>3</th>\n",
              "      <td>1976</td>\n",
              "      <td>lifestyle  governs mobile choice  faster  bett...</td>\n",
              "      <td>tech</td>\n",
              "      <td>[lifestyle, governs, mobile, choice, faster, b...</td>\n",
              "    </tr>\n",
              "    <tr>\n",
              "      <th>4</th>\n",
              "      <td>917</td>\n",
              "      <td>enron bosses in $168m payout eighteen former e...</td>\n",
              "      <td>business</td>\n",
              "      <td>[enron, boss, payout, eighteen, former, enron,...</td>\n",
              "    </tr>\n",
              "    <tr>\n",
              "      <th>5</th>\n",
              "      <td>1582</td>\n",
              "      <td>howard  truanted to play snooker  conservative...</td>\n",
              "      <td>politics</td>\n",
              "      <td>[howard, truanted, play, snooker, conservative...</td>\n",
              "    </tr>\n",
              "    <tr>\n",
              "      <th>6</th>\n",
              "      <td>651</td>\n",
              "      <td>wales silent on grand slam talk rhys williams ...</td>\n",
              "      <td>sport</td>\n",
              "      <td>[wale, silent, grand, slam, talk, rhys, willia...</td>\n",
              "    </tr>\n",
              "    <tr>\n",
              "      <th>7</th>\n",
              "      <td>1797</td>\n",
              "      <td>french honour for director parker british film...</td>\n",
              "      <td>entertainment</td>\n",
              "      <td>[french, honour, director, parker, british, fi...</td>\n",
              "    </tr>\n",
              "    <tr>\n",
              "      <th>8</th>\n",
              "      <td>2034</td>\n",
              "      <td>car giant hit by mercedes slump a slump in pro...</td>\n",
              "      <td>business</td>\n",
              "      <td>[car, giant, hit, mercedes, slump, slump, prof...</td>\n",
              "    </tr>\n",
              "    <tr>\n",
              "      <th>9</th>\n",
              "      <td>1866</td>\n",
              "      <td>fockers fuel festive film chart comedy meet th...</td>\n",
              "      <td>entertainment</td>\n",
              "      <td>[fockers, fuel, festive, film, chart, comedy, ...</td>\n",
              "    </tr>\n",
              "  </tbody>\n",
              "</table>\n",
              "</div>"
            ],
            "text/plain": [
              "   ArticleId                                               Text  \\\n",
              "0       1833  worldcom ex-boss launches defence lawyers defe...   \n",
              "1        154  german business confidence slides german busin...   \n",
              "2       1101  bbc poll indicates economic gloom citizens in ...   \n",
              "3       1976  lifestyle  governs mobile choice  faster  bett...   \n",
              "4        917  enron bosses in $168m payout eighteen former e...   \n",
              "5       1582  howard  truanted to play snooker  conservative...   \n",
              "6        651  wales silent on grand slam talk rhys williams ...   \n",
              "7       1797  french honour for director parker british film...   \n",
              "8       2034  car giant hit by mercedes slump a slump in pro...   \n",
              "9       1866  fockers fuel festive film chart comedy meet th...   \n",
              "\n",
              "        Category                                  Preprocessed_Text  \n",
              "0       business  [worldcom, ex, bos, launch, defence, lawyer, d...  \n",
              "1       business  [german, business, confidence, slide, german, ...  \n",
              "2       business  [bbc, poll, indicates, economic, gloom, citize...  \n",
              "3           tech  [lifestyle, governs, mobile, choice, faster, b...  \n",
              "4       business  [enron, boss, payout, eighteen, former, enron,...  \n",
              "5       politics  [howard, truanted, play, snooker, conservative...  \n",
              "6          sport  [wale, silent, grand, slam, talk, rhys, willia...  \n",
              "7  entertainment  [french, honour, director, parker, british, fi...  \n",
              "8       business  [car, giant, hit, mercedes, slump, slump, prof...  \n",
              "9  entertainment  [fockers, fuel, festive, film, chart, comedy, ...  "
            ]
          },
          "execution_count": 13,
          "metadata": {},
          "output_type": "execute_result"
        }
      ],
      "source": [
        "df1[\"Preprocessed_Text\"] = df1['Text'].apply(lambda x: preprocess(x))\n",
        "df1.head(10)"
      ]
    },
    {
      "cell_type": "code",
      "execution_count": 14,
      "metadata": {
        "id": "EzE3bh7l6H7g"
      },
      "outputs": [],
      "source": [
        "# Find the common words in each category\n",
        "def find_common_words(df, category):\n",
        "\n",
        "    \"\"\"\n",
        "    Function: find the most frequent words in the category and return the them\n",
        "    Args:\n",
        "      df(dataframe): the dataframe of articles\n",
        "      category(str): the category name\n",
        "    Return:\n",
        "      the most frequant words in the category\n",
        "    \"\"\"\n",
        "\n",
        "    # Create dataframes for the category\n",
        "    cat_df = df[df[\"Category\"]==category]\n",
        "\n",
        "    # Initialize words list for the category\n",
        "    words = [word for tokens in cat_df[\"Preprocessed_Text\"] for word in tokens]\n",
        "\n",
        "    # Count words frequency\n",
        "    words_counter = Counter(words)\n",
        "\n",
        "    return words_counter.most_common(10)"
      ]
    },
    {
      "cell_type": "code",
      "execution_count": 15,
      "metadata": {
        "colab": {
          "base_uri": "https://localhost:8080/"
        },
        "id": "Uc1DZg926NEr",
        "outputId": "4cda66c8-3d29-47d2-ad6f-08a286bda8f1"
      },
      "outputs": [
        {
          "name": "stdout",
          "output_type": "stream",
          "text": [
            "Most common words in each category\n",
            "business  News\n",
            "[('said', 1100), ('year', 618), ('bn', 535), ('u', 523), ('mr', 394), ('company', 393), ('firm', 374), ('market', 346), ('would', 309), ('also', 279)]\n",
            "\n",
            "tech  News\n",
            "[('said', 1064), ('people', 647), ('mobile', 437), ('phone', 396), ('game', 396), ('technology', 380), ('service', 371), ('one', 367), ('year', 364), ('mr', 350)]\n",
            "\n",
            "politics  News\n",
            "[('said', 1445), ('mr', 1100), ('would', 712), ('labour', 494), ('election', 479), ('government', 471), ('party', 464), ('blair', 396), ('minister', 373), ('people', 372)]\n",
            "\n",
            "sport  News\n",
            "[('said', 636), ('game', 487), ('year', 448), ('first', 350), ('win', 337), ('time', 336), ('england', 329), ('player', 311), ('two', 290), ('back', 279)]\n",
            "\n",
            "entertainment  News\n",
            "[('film', 721), ('said', 594), ('year', 450), ('best', 430), ('award', 336), ('u', 290), ('also', 277), ('one', 274), ('show', 273), ('star', 259)]\n",
            "\n"
          ]
        }
      ],
      "source": [
        "print(\"Most common words in each category\")\n",
        "for c in category:\n",
        "    print(c, \" News\")\n",
        "    print(find_common_words(df1, c))\n",
        "    print()"
      ]
    },
    {
      "cell_type": "code",
      "execution_count": 16,
      "metadata": {
        "colab": {
          "base_uri": "https://localhost:8080/",
          "height": 293
        },
        "id": "GIRCu4ab6PyH",
        "outputId": "b186ffc2-d867-45e2-d3be-853dc885cbaa"
      },
      "outputs": [
        {
          "data": {
            "text/html": [
              "<div>\n",
              "<style scoped>\n",
              "    .dataframe tbody tr th:only-of-type {\n",
              "        vertical-align: middle;\n",
              "    }\n",
              "\n",
              "    .dataframe tbody tr th {\n",
              "        vertical-align: top;\n",
              "    }\n",
              "\n",
              "    .dataframe thead th {\n",
              "        text-align: right;\n",
              "    }\n",
              "</style>\n",
              "<table border=\"1\" class=\"dataframe\">\n",
              "  <thead>\n",
              "    <tr style=\"text-align: right;\">\n",
              "      <th></th>\n",
              "      <th>ArticleId</th>\n",
              "      <th>Text</th>\n",
              "      <th>Category</th>\n",
              "      <th>Preprocessed_Text</th>\n",
              "      <th>Preprocessed_Text2</th>\n",
              "    </tr>\n",
              "  </thead>\n",
              "  <tbody>\n",
              "    <tr>\n",
              "      <th>0</th>\n",
              "      <td>1833</td>\n",
              "      <td>worldcom ex-boss launches defence lawyers defe...</td>\n",
              "      <td>business</td>\n",
              "      <td>[worldcom, ex, bos, launch, defence, lawyer, d...</td>\n",
              "      <td>worldcom ex bos launch defence lawyer defendin...</td>\n",
              "    </tr>\n",
              "    <tr>\n",
              "      <th>1</th>\n",
              "      <td>154</td>\n",
              "      <td>german business confidence slides german busin...</td>\n",
              "      <td>business</td>\n",
              "      <td>[german, business, confidence, slide, german, ...</td>\n",
              "      <td>german business confidence slide german busine...</td>\n",
              "    </tr>\n",
              "    <tr>\n",
              "      <th>2</th>\n",
              "      <td>1101</td>\n",
              "      <td>bbc poll indicates economic gloom citizens in ...</td>\n",
              "      <td>business</td>\n",
              "      <td>[bbc, poll, indicates, economic, gloom, citize...</td>\n",
              "      <td>bbc poll indicates economic gloom citizen majo...</td>\n",
              "    </tr>\n",
              "    <tr>\n",
              "      <th>3</th>\n",
              "      <td>1976</td>\n",
              "      <td>lifestyle  governs mobile choice  faster  bett...</td>\n",
              "      <td>tech</td>\n",
              "      <td>[lifestyle, governs, mobile, choice, faster, b...</td>\n",
              "      <td>lifestyle governs mobile choice faster better ...</td>\n",
              "    </tr>\n",
              "    <tr>\n",
              "      <th>4</th>\n",
              "      <td>917</td>\n",
              "      <td>enron bosses in $168m payout eighteen former e...</td>\n",
              "      <td>business</td>\n",
              "      <td>[enron, boss, payout, eighteen, former, enron,...</td>\n",
              "      <td>enron boss payout eighteen former enron direct...</td>\n",
              "    </tr>\n",
              "  </tbody>\n",
              "</table>\n",
              "</div>"
            ],
            "text/plain": [
              "   ArticleId                                               Text  Category  \\\n",
              "0       1833  worldcom ex-boss launches defence lawyers defe...  business   \n",
              "1        154  german business confidence slides german busin...  business   \n",
              "2       1101  bbc poll indicates economic gloom citizens in ...  business   \n",
              "3       1976  lifestyle  governs mobile choice  faster  bett...      tech   \n",
              "4        917  enron bosses in $168m payout eighteen former e...  business   \n",
              "\n",
              "                                   Preprocessed_Text  \\\n",
              "0  [worldcom, ex, bos, launch, defence, lawyer, d...   \n",
              "1  [german, business, confidence, slide, german, ...   \n",
              "2  [bbc, poll, indicates, economic, gloom, citize...   \n",
              "3  [lifestyle, governs, mobile, choice, faster, b...   \n",
              "4  [enron, boss, payout, eighteen, former, enron,...   \n",
              "\n",
              "                                  Preprocessed_Text2  \n",
              "0  worldcom ex bos launch defence lawyer defendin...  \n",
              "1  german business confidence slide german busine...  \n",
              "2  bbc poll indicates economic gloom citizen majo...  \n",
              "3  lifestyle governs mobile choice faster better ...  \n",
              "4  enron boss payout eighteen former enron direct...  "
            ]
          },
          "execution_count": 16,
          "metadata": {},
          "output_type": "execute_result"
        }
      ],
      "source": [
        "df1['Preprocessed_Text2'] = df1['Preprocessed_Text'].apply(' '.join)\n",
        "df1.head()"
      ]
    },
    {
      "cell_type": "code",
      "execution_count": 17,
      "metadata": {
        "id": "k-08RC7a6TYV"
      },
      "outputs": [],
      "source": [
        "# Determine data and target\n",
        "X = df1['Preprocessed_Text2']\n",
        "y = df1['Category']"
      ]
    },
    {
      "cell_type": "code",
      "execution_count": 18,
      "metadata": {
        "id": "n3tZtzGH6aEy"
      },
      "outputs": [],
      "source": [
        "# Split data\n",
        "X_train, X_test, y_train, y_test = train_test_split(X, y, test_size = 0.2)"
      ]
    },
    {
      "cell_type": "code",
      "execution_count": 19,
      "metadata": {
        "id": "OBALP34D6dLx"
      },
      "outputs": [],
      "source": [
        "# Use TF-IDF\n",
        "tf_vec = TfidfVectorizer()\n",
        "train_features = tf_vec.fit(X_train)\n",
        "train_features = tf_vec.transform(X_train)\n",
        "test_features = tf_vec.transform(X_test)"
      ]
    },
    {
      "cell_type": "code",
      "execution_count": 20,
      "metadata": {
        "id": "OLfIwwPO6fq5"
      },
      "outputs": [],
      "source": [
        "# Train and evaluate model\n",
        "def fit_eval_model(model, train_features, y_train, test_features, y_test):\n",
        "\n",
        "    \"\"\"\n",
        "    Function: train and evaluate a machine learning classifier.\n",
        "    Args:\n",
        "      model: machine learning classifier\n",
        "      train_features: train data extracted features\n",
        "      y_train: train data lables\n",
        "      test_features: train data extracted features\n",
        "      y_test: train data lables\n",
        "    Return:\n",
        "      results(dictionary): a dictionary of the model training time and classification report\n",
        "    \"\"\"\n",
        "    results ={}\n",
        "\n",
        "    # Start time\n",
        "    start = time.time()\n",
        "    # Train the model\n",
        "    model.fit(train_features, y_train)\n",
        "    # End time\n",
        "    end = time.time()\n",
        "    # Calculate the training time\n",
        "    results['train_time'] = end - start\n",
        "\n",
        "    # Test the model\n",
        "    train_predicted = model.predict(train_features)\n",
        "    test_predicted = model.predict(test_features)\n",
        "\n",
        "     # Classification report\n",
        "    results['classification_report'] = classification_report(y_test, test_predicted)\n",
        "\n",
        "    return results"
      ]
    },
    {
      "cell_type": "code",
      "execution_count": 21,
      "metadata": {
        "id": "4xYnpmHV6qq-"
      },
      "outputs": [],
      "source": [
        "# Initialize the models\n",
        "nb = MultinomialNB()\n",
        "\n",
        "\n",
        "# Fit and evaluate models\n",
        "results = {}\n",
        "for cls in [nb]:\n",
        "    cls_name = cls.__class__.__name__\n",
        "    results[cls_name] = {}\n",
        "    results[cls_name] = fit_eval_model(cls, train_features, y_train, test_features, y_test)"
      ]
    },
    {
      "cell_type": "code",
      "execution_count": 22,
      "metadata": {
        "colab": {
          "base_uri": "https://localhost:8080/"
        },
        "id": "hBjq52TJ7B4-",
        "outputId": "10ca5087-78a8-4998-9288-ef83df24ef36"
      },
      "outputs": [
        {
          "name": "stdout",
          "output_type": "stream",
          "text": [
            "MultinomialNB\n",
            "\n",
            "train_time :\n",
            "0.013199567794799805\n",
            "\n",
            "classification_report :\n",
            "               precision    recall  f1-score   support\n",
            "\n",
            "     business       0.95      0.94      0.94        64\n",
            "entertainment       1.00      0.94      0.97        63\n",
            "     politics       0.96      0.96      0.96        45\n",
            "        sport       0.97      1.00      0.99        78\n",
            "         tech       0.92      0.98      0.95        48\n",
            "\n",
            "     accuracy                           0.96       298\n",
            "    macro avg       0.96      0.96      0.96       298\n",
            " weighted avg       0.96      0.96      0.96       298\n",
            "\n",
            "\n",
            "-----\n",
            "\n"
          ]
        }
      ],
      "source": [
        "# Print classifiers results\n",
        "for res in results:\n",
        "    print (res)\n",
        "    print()\n",
        "    for i in results[res]:\n",
        "        print (i, ':')\n",
        "        print(results[res][i])\n",
        "        print()\n",
        "    print ('-----')\n",
        "    print()"
      ]
    },
    {
      "cell_type": "code",
      "execution_count": 23,
      "metadata": {
        "id": "9Kr-ERNB8Adx"
      },
      "outputs": [],
      "source": [
        "# Classify an article\n",
        "def classify_article(path):\n",
        "\n",
        "    \"\"\"\n",
        "    Function: classify an article.\n",
        "    Args:\n",
        "      path: the path of the article\n",
        "    Return:\n",
        "      category (str): the category of the article\n",
        "    \"\"\"\n",
        "    # Read file\n",
        "    file = open(path, 'r')\n",
        "    artcl = file.read()\n",
        "\n",
        "    # Text preprocessing\n",
        "    artcl = preprocess(artcl)\n",
        "    artcl = ' '.join(artcl)\n",
        "\n",
        "    # Use TF_IDF\n",
        "    test = tf_vec.transform([artcl])\n",
        "\n",
        "    # Use MultinomialNB model to classify the article\n",
        "    predict = nb.predict(test)\n",
        "    category = predict[0]\n",
        "\n",
        "    # Close file\n",
        "    file.close()\n",
        "\n",
        "    return category"
      ]
    },
    {
      "cell_type": "code",
      "execution_count": 24,
      "metadata": {
        "colab": {
          "base_uri": "https://localhost:8080/"
        },
        "id": "sYHEujw9DDoQ",
        "outputId": "391e17c7-9516-4a44-c6e7-e9283f189200"
      },
      "outputs": [
        {
          "name": "stdout",
          "output_type": "stream",
          "text": [
            "sport\n"
          ]
        }
      ],
      "source": [
        "print(classify_article('atricle11.txt'))"
      ]
    },
    {
      "cell_type": "code",
      "execution_count": 26,
      "metadata": {},
      "outputs": [],
      "source": [
        "import tkinter as tk\n",
        "from tkinter import filedialog, messagebox\n",
        "\n",
        "# Assume 'preprocess', 'tf_vec', and 'nb' are defined elsewhere in your code\n",
        "# ...\n",
        "\n",
        "def classify_article(path):\n",
        "    # Read file\n",
        "    with open(path, 'r') as file:\n",
        "        artcl = file.read()\n",
        "\n",
        "    # Text preprocessing\n",
        "    artcl = preprocess(artcl)\n",
        "    artcl = ' '.join(artcl)\n",
        "\n",
        "    # Use TF_IDF\n",
        "    test = tf_vec.transform([artcl])\n",
        "\n",
        "    # Use MultinomialNB model to classify the article\n",
        "    predict = nb.predict(test)\n",
        "    category = predict[0]\n",
        "\n",
        "    return category\n",
        "    \n",
        "\n",
        "# Function to open file dialog and classify the selected article\n",
        "def load_and_classify():\n",
        "    filepath = filedialog.askopenfilename()\n",
        "    if filepath:\n",
        "        category = classify_article(filepath)\n",
        "        messagebox.showinfo(\"Result\", f\"The article is classified as: {category}\")\n",
        "\n",
        "# Set up the main application window\n",
        "root = tk.Tk()\n",
        "root.title(\"Article Classifier\")\n",
        "\n",
        "# Styling\n",
        "root.geometry(\"400x200\")\n",
        "root.resizable(False, False)\n",
        "root.configure(bg=\"#f9f9f9\")\n",
        "\n",
        "# Custom font\n",
        "title_font = (\"Helvetica\", 24, \"bold\")\n",
        "button_font = (\"Helvetica\", 12)\n",
        "\n",
        "# Create a frame for better organization\n",
        "frame = tk.Frame(root, bg=\"#f9f9f9\")\n",
        "frame.pack(expand=True)\n",
        "\n",
        "# Create a label\n",
        "title_label = tk.Label(frame, text=\"Article Classifier\", font=title_font, bg=\"#f9f9f9\")\n",
        "title_label.pack(pady=(20, 10))\n",
        "\n",
        "# Create a button to open the file dialog and classify the article\n",
        "classify_button = tk.Button(frame, text=\"Classify Article\", command=load_and_classify, font=button_font, bg=\"#4CAF50\", fg=\"white\", padx=10, pady=5, relief=tk.FLAT)\n",
        "classify_button.pack(pady=20)\n",
        "\n",
        "# Start the GUI event loop\n",
        "root.mainloop()\n"
      ]
    }
  ],
  "metadata": {
    "colab": {
      "provenance": []
    },
    "kernelspec": {
      "display_name": "Python 3",
      "name": "python3"
    },
    "language_info": {
      "codemirror_mode": {
        "name": "ipython",
        "version": 3
      },
      "file_extension": ".py",
      "mimetype": "text/x-python",
      "name": "python",
      "nbconvert_exporter": "python",
      "pygments_lexer": "ipython3",
      "version": "3.11.1"
    }
  },
  "nbformat": 4,
  "nbformat_minor": 0
}
