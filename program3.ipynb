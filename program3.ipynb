{
 "cells": [
  {
   "cell_type": "code",
   "execution_count": 2,
   "metadata": {},
   "outputs": [
    {
     "name": "stdout",
     "output_type": "stream",
     "text": [
      "A\n",
      "B\n",
      "S\n",
      "C\n",
      "F\n",
      "G\n",
      "H\n",
      "E\n",
      "E\n",
      "D\n",
      "G\n"
     ]
    },
    {
     "data": {
      "text/plain": [
       "{'A', 'B', 'C', 'D', 'E', 'F', 'G', 'H', 'S'}"
      ]
     },
     "execution_count": 2,
     "metadata": {},
     "output_type": "execute_result"
    }
   ],
   "source": [
    "#implement depth first search Algorithm using stack\n",
    "# DFS algorithm in Python\n",
    "def dfs(graph, start, visited=None):\n",
    "    if visited is None:\n",
    "        visited = set()\n",
    "    visited.add(start)\n",
    "\n",
    "    print(start)\n",
    "\n",
    "    for next in graph[start] - visited:\n",
    "        dfs(graph, next, visited)\n",
    "    return visited\n",
    "\n",
    "\n",
    "graph = {'A': set(['B', 'S']),\n",
    "         'B': set(['A']),\n",
    "         'C': set(['S','D','F','E']),\n",
    "         'D': set(['C']),\n",
    "         'E': set(['C', 'H']),\n",
    "         'F': set(['C', 'G']),\n",
    "         'G': set(['S', 'F','H']),\n",
    "         'H': set(['E', 'G']),\n",
    "         'S': set(['C', 'A','G']),}\n",
    "\n",
    "dfs(graph, 'A')"
   ]
  }
 ],
 "metadata": {
  "kernelspec": {
   "display_name": "Python 3 (ipykernel)",
   "language": "python",
   "name": "python3"
  },
  "language_info": {
   "codemirror_mode": {
    "name": "ipython",
    "version": 3
   },
   "file_extension": ".py",
   "mimetype": "text/x-python",
   "name": "python",
   "nbconvert_exporter": "python",
   "pygments_lexer": "ipython3",
   "version": "3.10.13"
  }
 },
 "nbformat": 4,
 "nbformat_minor": 2
}
