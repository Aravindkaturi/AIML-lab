{
 "cells": [
  {
   "cell_type": "code",
   "execution_count": 2,
   "metadata": {},
   "outputs": [
    {
     "name": "stdout",
     "output_type": "stream",
     "text": [
      "['apple', 'bananas', 'oranges', 'guava']\n",
      "apple\n",
      "guava\n",
      "['apple', 'bananas', 'oranges', 'guava', 'pineapple']\n",
      "['apple', 'bananas', 'grapes', 'oranges', 'guava', 'pineapple']\n",
      "['apple', 'bananas', 'grapes', 'oranges', 'guava', 'pineapple', 'chennai', 'goa', 'kolkata']\n",
      "\n",
      "List after Removal of one element: \n",
      "[1, 2, 3, 4, 5, 7, 8, 9, 10, 11, 12]\n",
      "['apple', 'bananas', 'grapes', 'oranges', 'guava', 'pineapple', 'chennai', 'goa', 'kolkata']\n",
      "['apple', 'bananas', 'oranges', 'guava', 'pineapple', 'chennai', 'goa', 'kolkata']\n",
      "Initial List: \n",
      "['G', 'E', 'E', 'K', 'f', 'F', 'j', 'R', 'k', 'E', 'f', 'K', 'S']\n",
      "\n",
      "Slicing elements in a range 3-8: \n",
      "['K', 'f', 'F', 'j', 'R']\n"
     ]
    }
   ],
   "source": [
    "##1.list operations\n",
    "list=[\"apple\",\"bananas\",\"oranges\",\"guava\"]\n",
    "print(list)\n",
    "print(list[0])\n",
    "print(list[3])\n",
    "list.append(\"pineapple\")\n",
    "print(list)\n",
    "list.insert(2,\"grapes\")\n",
    "print(list)\n",
    "list.extend([\"chennai\",\"goa\",\"kolkata\"])\n",
    "print(list)\n",
    "myList = [1, 2, 3, 4, 5, 6,\n",
    "        7, 8, 9, 10, 11, 12]\n",
    "myList.remove(6)\n",
    "print(\"\\nList after Removal of one element: \")\n",
    "print(myList)\n",
    "print(list)\n",
    "list.pop(2)\n",
    "print(list)\n",
    "List1 = ['G', 'E', 'E', 'K', 'f', 'F',\n",
    "        'j', 'R', 'k', 'E', 'f', 'K', 'S']\n",
    "print(\"Initial List: \")\n",
    "print(List1)\n",
    "Sliced_List = List1[3:8]\n",
    "print(\"\\nSlicing elements in a range 3-8: \")\n",
    "print(Sliced_List)\n"
   ]
  },
  {
   "cell_type": "code",
   "execution_count": null,
   "metadata": {},
   "outputs": [],
   "source": []
  }
 ],
 "metadata": {
  "kernelspec": {
   "display_name": "Python 3 (ipykernel)",
   "language": "python",
   "name": "python3"
  },
  "language_info": {
   "codemirror_mode": {
    "name": "ipython",
    "version": 3
   },
   "file_extension": ".py",
   "mimetype": "text/x-python",
   "name": "python",
   "nbconvert_exporter": "python",
   "pygments_lexer": "ipython3",
   "version": "3.10.13"
  }
 },
 "nbformat": 4,
 "nbformat_minor": 2
}
